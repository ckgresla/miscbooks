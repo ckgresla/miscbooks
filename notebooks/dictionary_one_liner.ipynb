{
 "cells": [
  {
   "cell_type": "code",
   "execution_count": 1,
   "metadata": {},
   "outputs": [
    {
     "data": {
      "text/plain": [
       "{('wow', 'wow'): 0,\n",
       " ('wow', 'cool'): 0,\n",
       " ('wow', 'interesting'): 0,\n",
       " ('cool', 'wow'): 0,\n",
       " ('cool', 'cool'): 0,\n",
       " ('cool', 'interesting'): 0,\n",
       " ('interesting', 'wow'): 0,\n",
       " ('interesting', 'cool'): 0,\n",
       " ('interesting', 'interesting'): 0}"
      ]
     },
     "execution_count": 1,
     "metadata": {},
     "output_type": "execute_result"
    }
   ],
   "source": [
    "# Testing Techniques from IDS 576 -- create a X_i, X_j list in one line with dict\n",
    "movies_list = ['wow', \"cool\", \"interesting\"]\n",
    "\n",
    "X = {(x, y): 0 for x in movies_list for y in movies_list}\n",
    "X"
   ]
  }
 ],
 "metadata": {
  "interpreter": {
   "hash": "8ded7e557cabc503a7f81f0f04aeace4a1808ea0b899d8e674bc358cbfa12e20"
  },
  "kernelspec": {
   "display_name": "Python 3.7.6 64-bit ('base': conda)",
   "name": "python3"
  },
  "language_info": {
   "codemirror_mode": {
    "name": "ipython",
    "version": 3
   },
   "file_extension": ".py",
   "mimetype": "text/x-python",
   "name": "python",
   "nbconvert_exporter": "python",
   "pygments_lexer": "ipython3",
   "version": "3.9.5"
  },
  "orig_nbformat": 4
 },
 "nbformat": 4,
 "nbformat_minor": 2
}

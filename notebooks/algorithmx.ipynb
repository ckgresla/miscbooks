{
 "cells": [
  {
   "cell_type": "markdown",
   "metadata": {},
   "source": [
    "# Visualize Graphs & Algorithms w NetworkX and AlgorithmX\n",
    "\n",
    "\n",
    "as done in this documentation- https://algrx.github.io/docs/python/examples/networkx-examples.html\n"
   ]
  },
  {
   "cell_type": "code",
   "execution_count": 5,
   "metadata": {},
   "outputs": [
    {
     "data": {
      "application/vnd.jupyter.widget-view+json": {
       "model_id": "49ff3e1009164670ab598dcfe76c1b3d",
       "version_major": 2,
       "version_minor": 0
      },
      "text/plain": [
       "JupyterWidget(events=['{\"attrs\": {\"nodes\": {\"0\": {}, \"1\": {}, \"2\": {}, \"3\": {}, \"4\": {}, \"5\": {}, \"6\": {}, \"7\"…"
      ]
     },
     "metadata": {},
     "output_type": "display_data"
    }
   ],
   "source": [
    "from algorithmx import jupyter_canvas\n",
    "from random import randint\n",
    "import networkx as nx\n",
    "\n",
    "canvas = jupyter_canvas()\n",
    "\n",
    "# Create a directed graph\n",
    "G = nx.circular_ladder_graph(5)\n",
    "# Randomize edge weights\n",
    "nx.set_edge_attributes(G, {e: {'weight': randint(1, 9)} for e in G.edges})\n",
    "\n",
    "# Add nodes\n",
    "canvas.nodes(G.nodes).add()\n",
    "\n",
    "# Add directed edges with weight labels\n",
    "canvas.edges(G.edges).add(\n",
    "    labels=lambda e: {0: {'text': G.edges[e]['weight']}}\n",
    ")\n",
    "\n",
    "canvas"
   ]
  },
  {
   "cell_type": "code",
   "execution_count": 13,
   "metadata": {},
   "outputs": [
    {
     "data": {
      "application/vnd.jupyter.widget-view+json": {
       "model_id": "dc1dc7ea8f3d4c01aae5de99d5ab9d53",
       "version_major": 2,
       "version_minor": 0
      },
      "text/plain": [
       "JupyterWidget(events=['{\"attrs\": {\"size\": [500, 400]}}', '{\"attrs\": {\"nodes\": {\"0\": {}, \"1\": {}, \"2\": {}, \"3\":…"
      ]
     },
     "metadata": {},
     "output_type": "display_data"
    }
   ],
   "source": [
    "import random\n",
    "random.seed(40)\n",
    "\n",
    "canvas = jupyter_canvas(buttons=True)\n",
    "canvas.size((500, 400))\n",
    "\n",
    "# Generate a random graph with random edge weights\n",
    "G = nx.newman_watts_strogatz_graph(16, 2, 0.4, seed=42)\n",
    "nx.set_edge_attributes(G, {e: randint(1, 20) for e in G.edges}, 'weight')\n",
    "\n",
    "# Add nodes and edges with weight labels\n",
    "canvas.nodes(G.nodes).add()\n",
    "canvas.edges(G.edges).add(\n",
    "    labels=lambda e: {0: {'text': G.edges[e]['weight']}}\n",
    ")\n",
    "canvas.pause(1)\n",
    "\n",
    "# Select the source and target\n",
    "source = 11\n",
    "target = 3\n",
    "canvas.node(source).color('green').highlight().size('1.25x')\n",
    "canvas.node(target).color('red').highlight().size('1.25x')\n",
    "canvas.pause(1.5)\n",
    "\n",
    "# Run Dijkstra's shortest path algorithm\n",
    "path = nx.dijkstra_path(G, source, target)\n",
    "\n",
    "# Animate the algorithm\n",
    "path_length = 0\n",
    "for i in range(len(path) - 1):\n",
    "    u, v = path[i], path[i + 1]\n",
    "\n",
    "    # Update the path length\n",
    "    path_length += G[u][v]['weight']\n",
    "\n",
    "    # Traverse the edge\n",
    "    canvas.edge((u, v)).traverse('blue')\n",
    "    canvas.pause(0.4)\n",
    "\n",
    "    # Make the next node blue\n",
    "    if v != target:\n",
    "        canvas.node(v).color('blue')\n",
    "\n",
    "    # Add a label to indicate current path length\n",
    "    canvas.node(v).label('path').add(\n",
    "        color='blue',\n",
    "        text=path_length\n",
    "    )\n",
    "    canvas.pause(0.2)\n",
    "\n",
    "canvas"
   ]
  },
  {
   "cell_type": "code",
   "execution_count": null,
   "metadata": {},
   "outputs": [],
   "source": []
  }
 ],
 "metadata": {
  "kernelspec": {
   "display_name": "Python 3.9.5 ('base')",
   "language": "python",
   "name": "python3"
  },
  "language_info": {
   "codemirror_mode": {
    "name": "ipython",
    "version": 3
   },
   "file_extension": ".py",
   "mimetype": "text/x-python",
   "name": "python",
   "nbconvert_exporter": "python",
   "pygments_lexer": "ipython3",
   "version": "3.9.5"
  },
  "orig_nbformat": 4,
  "vscode": {
   "interpreter": {
    "hash": "5add2f98eb1b25c159bbb703f99a1836452b18263d46213c174eb16a8383dc63"
   }
  }
 },
 "nbformat": 4,
 "nbformat_minor": 2
}

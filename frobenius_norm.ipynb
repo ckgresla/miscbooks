{
 "cells": [
  {
   "cell_type": "code",
   "execution_count": 18,
   "metadata": {},
   "outputs": [
    {
     "name": "stdout",
     "output_type": "stream",
     "text": [
      "Matrix A: \n",
      "[[0.25764093 0.81712906 0.64466427]\n",
      " [0.94457883 0.09975614 0.69580896]\n",
      " [0.29214404 0.731528   0.53210659]]\n",
      "\n",
      "Frobenius Norm of A: 1.855\n"
     ]
    }
   ],
   "source": [
    "# Compute the Frobenius Norm of Matrix & Visualize\n",
    "import numpy as np\n",
    "\n",
    "A = np.random.rand(3, 3)\n",
    "A_norm = np.linalg.norm(A, ord=\"fro\") #fro = Frobenius Normalization, also np's default\n",
    "\n",
    "print(f\"Matrix A: \\n{A}\") \n",
    "print(f\"\\nFrobenius Norm of A: {A_norm:.3f}\") #rounded to 3 decimal places"
   ]
  }
 ],
 "metadata": {
  "interpreter": {
   "hash": "711cd7191a047140ed863b5106be13ed796f72e32b46bab98c0e874da31c9142"
  },
  "kernelspec": {
   "display_name": "Python 3.7.6 64-bit ('base': conda)",
   "name": "python3"
  },
  "language_info": {
   "codemirror_mode": {
    "name": "ipython",
    "version": 3
   },
   "file_extension": ".py",
   "mimetype": "text/x-python",
   "name": "python",
   "nbconvert_exporter": "python",
   "pygments_lexer": "ipython3",
   "version": "3.7.6"
  },
  "orig_nbformat": 4
 },
 "nbformat": 4,
 "nbformat_minor": 2
}
